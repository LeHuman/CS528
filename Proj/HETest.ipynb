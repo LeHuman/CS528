{
 "cells": [
  {
   "cell_type": "code",
   "execution_count": 52,
   "metadata": {},
   "outputs": [],
   "source": [
    "\"\"\"\n",
    "Client/Server demo with Pyfhel\n",
    "========================================\n",
    "\n",
    "Context Parameters shows how several parameters affect performance.\n",
    "\"\"\"\n",
    "\n",
    "from Pyfhel import Pyfhel, PyPtxt, PyCtxt\n",
    "import tempfile\n",
    "from pathlib import Path\n",
    "\n",
    "# Using a temporary dir as a \"secure channel\"\n",
    "# This can be changed into real communication using other python libraries.\n",
    "secure_channel = tempfile.TemporaryDirectory()\n",
    "sec_con = Path(secure_channel.name)\n",
    "pk_file = sec_con / \"mypk.pk\"\n",
    "contx_file = sec_con / \"mycontx.con\"\n"
   ]
  },
  {
   "cell_type": "code",
   "execution_count": 53,
   "metadata": {},
   "outputs": [],
   "source": [
    "##### CLIENT\n",
    "\n",
    "# HE Object Creation, including the public and private keys\n",
    "HE = Pyfhel()\n",
    "HE.contextGen(p=65537, m=2 ** 12)\n",
    "HE.keyGen()  # Generates both a public and a private key\n",
    "\n",
    "# Saving only the public key and the context\n",
    "HE.savepublicKey(pk_file)\n",
    "HE.saveContext(contx_file)\n",
    "\n",
    "# Serializing two float values\n",
    "a = 1.5\n",
    "b = 2.5\n",
    "ca = HE.encryptFrac(a)\n",
    "cb = HE.encryptFrac(b)\n",
    "\n",
    "ca.to_file(sec_con / \"ca.ctxt\")\n",
    "cb.to_file(sec_con / \"cb.ctxt\")"
   ]
  },
  {
   "cell_type": "code",
   "execution_count": 54,
   "metadata": {},
   "outputs": [
    {
     "name": "stdout",
     "output_type": "stream",
     "text": [
      "The cloud tried to decrypt, but couldn't!\n"
     ]
    }
   ],
   "source": [
    "##### SEMI-HONEST CLOUD\n",
    "\n",
    "# Generating a second HE, acting as the honest-but-curious Cloud provider,\n",
    "#  that will perform the operations and try to decrypt everything\n",
    "HE_Cl = Pyfhel()\n",
    "HE_Cl.restoreContext(contx_file)\n",
    "HE_Cl.restorepublicKey(pk_file)\n",
    "\n",
    "# loading the two ciphertexts. There is clearly potential for improvement here\n",
    "c2a = PyCtxt(pyfhel=HE_Cl, fileName=sec_con / \"ca.ctxt\", encoding=float)\n",
    "c2b = PyCtxt(pyfhel=HE_Cl, fileName=sec_con / \"cb.ctxt\", encoding=float)\n",
    "\n",
    "# Attempting to decrypt results raises an error (missing secret key)\n",
    "# > ---------------------------------------------------------------------------\n",
    "# > RuntimeError                              Traceback (most recent call last)\n",
    "# > Pyfhel/Pyfhel.pyx in Pyfhel.Pyfhel.Pyfhel.decryptFrac()\n",
    "# > RuntimeError: Missing a Private Key [...]\n",
    "try:\n",
    "    print(HE_Cl.decrypt(c2a))\n",
    "    raise Exception(\"This should not be reached!\")\n",
    "except RuntimeError:\n",
    "    print(\"The cloud tried to decrypt, but couldn't!\")\n",
    "\n",
    "# The cloud operates with the ciphertexts:\n",
    "c_mean = (c2a + c2b) / 2\n",
    "\n",
    "c_mean = c_mean + 3.58\n",
    "\n",
    "c_mean = c_mean * c_mean\n",
    "\n",
    "# And sends the result back\n",
    "c_mean.to_file(sec_con / \"c_mean.ctxt\")"
   ]
  },
  {
   "cell_type": "code",
   "execution_count": 55,
   "metadata": {},
   "outputs": [
    {
     "name": "stdout",
     "output_type": "stream",
     "text": [
      "31.136399996001273\n"
     ]
    }
   ],
   "source": [
    "##### CLIENT\n",
    "\n",
    "# Load and decrypt Result\n",
    "c_res = PyCtxt(pyfhel=HE, fileName=sec_con / \"c_mean.ctxt\", encoding=float)\n",
    "print(c_res.decrypt())"
   ]
  },
  {
   "cell_type": "code",
   "execution_count": 56,
   "metadata": {},
   "outputs": [],
   "source": [
    "# Cleaning up secure channel\n",
    "secure_channel.cleanup()\n",
    "\n",
    "# sphinx_gallery_thumbnail_path = 'static/thumbnails/clientServer.png'"
   ]
  }
 ],
 "metadata": {
  "interpreter": {
   "hash": "b89b5cfaba6639976dc87ff2fec6d58faec662063367e2c229c520fe71072417"
  },
  "kernelspec": {
   "display_name": "Python 3.10.0 64-bit",
   "language": "python",
   "name": "python3"
  },
  "language_info": {
   "codemirror_mode": {
    "name": "ipython",
    "version": 3
   },
   "file_extension": ".py",
   "mimetype": "text/x-python",
   "name": "python",
   "nbconvert_exporter": "python",
   "pygments_lexer": "ipython3",
   "version": "3.10.0"
  },
  "orig_nbformat": 4
 },
 "nbformat": 4,
 "nbformat_minor": 2
}
